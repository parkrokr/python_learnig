{
  "nbformat": 4,
  "nbformat_minor": 0,
  "metadata": {
    "colab": {
      "name": "20210811_홍대파이썬.ipynb",
      "provenance": [],
      "collapsed_sections": [],
      "authorship_tag": "ABX9TyMKwb8M3yF6MGuyYkeAaziP",
      "include_colab_link": true
    },
    "kernelspec": {
      "name": "python3",
      "display_name": "Python 3"
    },
    "language_info": {
      "name": "python"
    }
  },
  "cells": [
    {
      "cell_type": "markdown",
      "metadata": {
        "id": "view-in-github",
        "colab_type": "text"
      },
      "source": [
        "<a href=\"https://colab.research.google.com/github/parkrokr/python_learnig/blob/main/20210811_%ED%99%8D%EB%8C%80%ED%8C%8C%EC%9D%B4%EC%8D%AC.ipynb\" target=\"_parent\"><img src=\"https://colab.research.google.com/assets/colab-badge.svg\" alt=\"Open In Colab\"/></a>"
      ]
    },
    {
      "cell_type": "code",
      "metadata": {
        "colab": {
          "base_uri": "https://localhost:8080/"
        },
        "id": "Wzj4_DBZYmmx",
        "outputId": "e061ce84-21d0-44bf-f92c-b4b8c51664b3"
      },
      "source": [
        "# 반복문 \n",
        "\n",
        "# while : 조건이 맞으면 무한반복\n",
        "# for : 조건이 맞으면 유한 반복\n",
        "\n",
        "# while 조건:\n",
        "\n",
        "hit = 0\n",
        "\n",
        "while hit < 10:\n",
        "  hit = hit + 1\n",
        "  print('나무를 {} 번 찍었습니다 . '.format(hit))\n",
        "  if hit == 10:\n",
        "    print('나무가 쓰러졌습니다.')\n",
        "\n",
        "\n"
      ],
      "execution_count": null,
      "outputs": [
        {
          "output_type": "stream",
          "text": [
            "나무를 1 번 찍었습니다 . \n",
            "나무를 2 번 찍었습니다 . \n",
            "나무를 3 번 찍었습니다 . \n",
            "나무를 4 번 찍었습니다 . \n",
            "나무를 5 번 찍었습니다 . \n",
            "나무를 6 번 찍었습니다 . \n",
            "나무를 7 번 찍었습니다 . \n",
            "나무를 8 번 찍었습니다 . \n",
            "나무를 9 번 찍었습니다 . \n",
            "나무를 10 번 찍었습니다 . \n",
            "나무가 쓰러졌습니다.\n"
          ],
          "name": "stdout"
        }
      ]
    },
    {
      "cell_type": "code",
      "metadata": {
        "colab": {
          "base_uri": "https://localhost:8080/"
        },
        "id": "fzSj34gMZyIS",
        "outputId": "901a3a08-141e-474e-c670-f1c39c0ccb8d"
      },
      "source": [
        "coffee = 10\n",
        "\n",
        "while True:\n",
        "  coffee = coffee -1\n",
        "  print('커피를 한잔팔고, {}잔 남았습니다. '.format(coffee))\n",
        "  if coffee == 0:\n",
        "    print('커피를 모두 팔았습니다.')\n",
        "    break # 반복문을 돌리다가 break 만나면 , 그 반복문을 강제로 나감\n",
        "    "
      ],
      "execution_count": null,
      "outputs": [
        {
          "output_type": "stream",
          "text": [
            "커피를 한잔팔고, 9잔 남았습니다. \n",
            "커피를 한잔팔고, 8잔 남았습니다. \n",
            "커피를 한잔팔고, 7잔 남았습니다. \n",
            "커피를 한잔팔고, 6잔 남았습니다. \n",
            "커피를 한잔팔고, 5잔 남았습니다. \n",
            "커피를 한잔팔고, 4잔 남았습니다. \n",
            "커피를 한잔팔고, 3잔 남았습니다. \n",
            "커피를 한잔팔고, 2잔 남았습니다. \n",
            "커피를 한잔팔고, 1잔 남았습니다. \n",
            "커피를 한잔팔고, 0잔 남았습니다. \n",
            "커피를 모두 팔았습니다.\n"
          ],
          "name": "stdout"
        }
      ]
    },
    {
      "cell_type": "code",
      "metadata": {
        "colab": {
          "base_uri": "https://localhost:8080/"
        },
        "id": "WSdIgUrPaOTu",
        "outputId": "2b9de6fd-9262-402c-a220-51a3f38b9f3b"
      },
      "source": [
        "a = 0\n",
        "\n",
        "while a<10: # <- 여기로 이동\n",
        "  a += 1\n",
        "  if a % 2 == 0:\n",
        "    continue # 반복문을 돌리다가 continue 를 만나면 \n",
        "  print(a)"
      ],
      "execution_count": null,
      "outputs": [
        {
          "output_type": "stream",
          "text": [
            "1\n",
            "3\n",
            "5\n",
            "7\n",
            "9\n"
          ],
          "name": "stdout"
        }
      ]
    },
    {
      "cell_type": "code",
      "metadata": {
        "colab": {
          "base_uri": "https://localhost:8080/"
        },
        "id": "kfyvRh8Ba8A6",
        "outputId": "7acad321-961e-41ad-b4d4-264be697e304"
      },
      "source": [
        "\n",
        "sumi = 0\n",
        "num = 1\n",
        "\n",
        "while num<1001:\n",
        "  if num % 3 == 0:\n",
        "    sumi += num\n",
        "  num += 1\n",
        "print(sumi)\n"
      ],
      "execution_count": null,
      "outputs": [
        {
          "output_type": "stream",
          "text": [
            "166833\n"
          ],
          "name": "stdout"
        }
      ]
    },
    {
      "cell_type": "code",
      "metadata": {
        "colab": {
          "base_uri": "https://localhost:8080/"
        },
        "id": "WBpac6hXbhZB",
        "outputId": "a818b438-8447-4445-b09d-10fe691bacd3"
      },
      "source": [
        "# for : 순서가 있는 유한반복\n",
        " \n",
        "# for 변수 in 반복해서 돌리고 싶은것:\n",
        " \n",
        "box = [(1,2),(3,4),(5,6)]\n",
        "\n",
        "for i,j in box:\n",
        "   print(i+j)"
      ],
      "execution_count": null,
      "outputs": [
        {
          "output_type": "stream",
          "text": [
            "3\n",
            "7\n",
            "11\n"
          ],
          "name": "stdout"
        }
      ]
    },
    {
      "cell_type": "code",
      "metadata": {
        "colab": {
          "base_uri": "https://localhost:8080/"
        },
        "id": "bQomyHOweIeS",
        "outputId": "66310caf-b043-4b33-acde-a73dba36c687"
      },
      "source": [
        "\n",
        "students = [90, 25, 75,45, 100]\n",
        "num = 0\n",
        "\n",
        "for i in students:\n",
        "  num += 1\n",
        "  if i > 60:\n",
        "    print(f'{num}번 학생 합격 -- {i}점')\n"
      ],
      "execution_count": null,
      "outputs": [
        {
          "output_type": "stream",
          "text": [
            "1번 학생 합격 -- 90점\n",
            "3번 학생 합격 -- 75점\n",
            "5번 학생 합격 -- 100점\n"
          ],
          "name": "stdout"
        }
      ]
    },
    {
      "cell_type": "code",
      "metadata": {
        "colab": {
          "base_uri": "https://localhost:8080/"
        },
        "id": "73LFHLeHe8Nr",
        "outputId": "06c460d6-db3b-482c-8556-b6770776a17d"
      },
      "source": [
        "students = [90, 25, 75,45, 100]\n",
        "num = 0\n",
        "\n",
        "for i in students:\n",
        "  num += 1\n",
        "  if i < 60:\n",
        "    continue\n",
        "  print(f'{num}번 학생 합격 -- {i}점')"
      ],
      "execution_count": null,
      "outputs": [
        {
          "output_type": "stream",
          "text": [
            "1번 학생 합격 -- 90점\n",
            "3번 학생 합격 -- 75점\n",
            "5번 학생 합격 -- 100점\n"
          ],
          "name": "stdout"
        }
      ]
    },
    {
      "cell_type": "code",
      "metadata": {
        "colab": {
          "base_uri": "https://localhost:8080/"
        },
        "id": "HP3n7AnyfNJn",
        "outputId": "dd7f1aa3-6983-4426-d7fe-a5c4c90f527d"
      },
      "source": [
        "\n",
        "# 1~100 까지 더하면?\n",
        " \n",
        "a = 0\n",
        "for i in range(1,101):\n",
        "  a += i\n",
        "a"
      ],
      "execution_count": null,
      "outputs": [
        {
          "output_type": "execute_result",
          "data": {
            "text/plain": [
              "5050"
            ]
          },
          "metadata": {
            "tags": []
          },
          "execution_count": 19
        }
      ]
    },
    {
      "cell_type": "code",
      "metadata": {
        "colab": {
          "base_uri": "https://localhost:8080/"
        },
        "id": "IPHgL7yWfqcr",
        "outputId": "4ba29ff2-f395-42d1-a084-906aef2f98ca"
      },
      "source": [
        "\n",
        "for i in range(1,101,5):\n",
        "  print(i)"
      ],
      "execution_count": null,
      "outputs": [
        {
          "output_type": "stream",
          "text": [
            "1\n",
            "6\n",
            "11\n",
            "16\n",
            "21\n",
            "26\n",
            "31\n",
            "36\n",
            "41\n",
            "46\n",
            "51\n",
            "56\n",
            "61\n",
            "66\n",
            "71\n",
            "76\n",
            "81\n",
            "86\n",
            "91\n",
            "96\n"
          ],
          "name": "stdout"
        }
      ]
    },
    {
      "cell_type": "code",
      "metadata": {
        "colab": {
          "base_uri": "https://localhost:8080/"
        },
        "id": "pYLzyJ61gDsE",
        "outputId": "a60c0cd3-1051-4e3a-af9d-156118fa4ddc"
      },
      "source": [
        "for i in range(10,0,-1):\n",
        "  print(i)"
      ],
      "execution_count": null,
      "outputs": [
        {
          "output_type": "stream",
          "text": [
            "10\n",
            "9\n",
            "8\n",
            "7\n",
            "6\n",
            "5\n",
            "4\n",
            "3\n",
            "2\n",
            "1\n"
          ],
          "name": "stdout"
        }
      ]
    },
    {
      "cell_type": "code",
      "metadata": {
        "colab": {
          "base_uri": "https://localhost:8080/"
        },
        "id": "OYhqymPeglE6",
        "outputId": "598a99a0-8b90-4b0a-a755-12f662e8ad3c"
      },
      "source": [
        "for i in range(2, 10):\n",
        "  for j in range(1, 10):\n",
        "    print('{} X {} = {}.'.format(i , j, i*j))\n",
        "  print()"
      ],
      "execution_count": null,
      "outputs": [
        {
          "output_type": "stream",
          "text": [
            "2 X 1 = 2.\n",
            "2 X 2 = 4.\n",
            "2 X 3 = 6.\n",
            "2 X 4 = 8.\n",
            "2 X 5 = 10.\n",
            "2 X 6 = 12.\n",
            "2 X 7 = 14.\n",
            "2 X 8 = 16.\n",
            "2 X 9 = 18.\n",
            "\n",
            "3 X 1 = 3.\n",
            "3 X 2 = 6.\n",
            "3 X 3 = 9.\n",
            "3 X 4 = 12.\n",
            "3 X 5 = 15.\n",
            "3 X 6 = 18.\n",
            "3 X 7 = 21.\n",
            "3 X 8 = 24.\n",
            "3 X 9 = 27.\n",
            "\n",
            "4 X 1 = 4.\n",
            "4 X 2 = 8.\n",
            "4 X 3 = 12.\n",
            "4 X 4 = 16.\n",
            "4 X 5 = 20.\n",
            "4 X 6 = 24.\n",
            "4 X 7 = 28.\n",
            "4 X 8 = 32.\n",
            "4 X 9 = 36.\n",
            "\n",
            "5 X 1 = 5.\n",
            "5 X 2 = 10.\n",
            "5 X 3 = 15.\n",
            "5 X 4 = 20.\n",
            "5 X 5 = 25.\n",
            "5 X 6 = 30.\n",
            "5 X 7 = 35.\n",
            "5 X 8 = 40.\n",
            "5 X 9 = 45.\n",
            "\n",
            "6 X 1 = 6.\n",
            "6 X 2 = 12.\n",
            "6 X 3 = 18.\n",
            "6 X 4 = 24.\n",
            "6 X 5 = 30.\n",
            "6 X 6 = 36.\n",
            "6 X 7 = 42.\n",
            "6 X 8 = 48.\n",
            "6 X 9 = 54.\n",
            "\n",
            "7 X 1 = 7.\n",
            "7 X 2 = 14.\n",
            "7 X 3 = 21.\n",
            "7 X 4 = 28.\n",
            "7 X 5 = 35.\n",
            "7 X 6 = 42.\n",
            "7 X 7 = 49.\n",
            "7 X 8 = 56.\n",
            "7 X 9 = 63.\n",
            "\n",
            "8 X 1 = 8.\n",
            "8 X 2 = 16.\n",
            "8 X 3 = 24.\n",
            "8 X 4 = 32.\n",
            "8 X 5 = 40.\n",
            "8 X 6 = 48.\n",
            "8 X 7 = 56.\n",
            "8 X 8 = 64.\n",
            "8 X 9 = 72.\n",
            "\n",
            "9 X 1 = 9.\n",
            "9 X 2 = 18.\n",
            "9 X 3 = 27.\n",
            "9 X 4 = 36.\n",
            "9 X 5 = 45.\n",
            "9 X 6 = 54.\n",
            "9 X 7 = 63.\n",
            "9 X 8 = 72.\n",
            "9 X 9 = 81.\n",
            "\n"
          ],
          "name": "stdout"
        }
      ]
    },
    {
      "cell_type": "code",
      "metadata": {
        "colab": {
          "base_uri": "https://localhost:8080/"
        },
        "id": "r8WV5bCZg6LT",
        "outputId": "2c8facfa-d4a4-4a5b-c99f-087f411b0675"
      },
      "source": [
        "for i in range(5,0,-1):\n",
        "  print('*' * i)\n",
        "  "
      ],
      "execution_count": null,
      "outputs": [
        {
          "output_type": "stream",
          "text": [
            "*****\n",
            "****\n",
            "***\n",
            "**\n",
            "*\n"
          ],
          "name": "stdout"
        }
      ]
    },
    {
      "cell_type": "code",
      "metadata": {
        "colab": {
          "base_uri": "https://localhost:8080/"
        },
        "id": "FJPM-XVChuep",
        "outputId": "bd5511a2-99c6-458b-fd93-70205855decb"
      },
      "source": [
        "box = []\n",
        "\n",
        "for i in range(1,6):\n",
        "  box.append(i)\n",
        "\n",
        "box"
      ],
      "execution_count": null,
      "outputs": [
        {
          "output_type": "execute_result",
          "data": {
            "text/plain": [
              "[1, 2, 3, 4, 5]"
            ]
          },
          "metadata": {
            "tags": []
          },
          "execution_count": 29
        }
      ]
    },
    {
      "cell_type": "code",
      "metadata": {
        "colab": {
          "base_uri": "https://localhost:8080/"
        },
        "id": "8w8oHcTCik-g",
        "outputId": "3502a879-5c64-45ae-800e-62453284a548"
      },
      "source": [
        "box = [i for i in range(1 , 11)]\n",
        "box "
      ],
      "execution_count": null,
      "outputs": [
        {
          "output_type": "execute_result",
          "data": {
            "text/plain": [
              "[1, 2, 3, 4, 5, 6, 7, 8, 9, 10]"
            ]
          },
          "metadata": {
            "tags": []
          },
          "execution_count": 31
        }
      ]
    },
    {
      "cell_type": "code",
      "metadata": {
        "colab": {
          "base_uri": "https://localhost:8080/"
        },
        "id": "fzvVbgaljtpg",
        "outputId": "243c1297-600f-4d13-8a6b-a3d484fa65ce"
      },
      "source": [
        "box = [i for i in range(1 , 11) if i % 2 == 0]\n",
        "box "
      ],
      "execution_count": null,
      "outputs": [
        {
          "output_type": "execute_result",
          "data": {
            "text/plain": [
              "[2, 4, 6, 8, 10]"
            ]
          },
          "metadata": {
            "tags": []
          },
          "execution_count": 32
        }
      ]
    },
    {
      "cell_type": "code",
      "metadata": {
        "colab": {
          "base_uri": "https://localhost:8080/"
        },
        "id": "KN_Ingv9j5LE",
        "outputId": "5aad74d2-b236-47aa-b3f1-1cf56b083a9f"
      },
      "source": [
        "box = [5 for i in range(1 , 11)]\n",
        "box "
      ],
      "execution_count": null,
      "outputs": [
        {
          "output_type": "execute_result",
          "data": {
            "text/plain": [
              "[5, 5, 5, 5, 5, 5, 5, 5, 5, 5]"
            ]
          },
          "metadata": {
            "tags": []
          },
          "execution_count": 33
        }
      ]
    },
    {
      "cell_type": "code",
      "metadata": {
        "colab": {
          "base_uri": "https://localhost:8080/"
        },
        "id": "_q7bdl65kAhI",
        "outputId": "5e18c2cd-240e-4db9-ffc1-3811bb8cc49b"
      },
      "source": [
        "box = [i*j for i in range(1 , 11) for j in range(1,11)] \n",
        "box "
      ],
      "execution_count": null,
      "outputs": [
        {
          "output_type": "execute_result",
          "data": {
            "text/plain": [
              "[1,\n",
              " 2,\n",
              " 3,\n",
              " 4,\n",
              " 5,\n",
              " 6,\n",
              " 7,\n",
              " 8,\n",
              " 9,\n",
              " 10,\n",
              " 2,\n",
              " 4,\n",
              " 6,\n",
              " 8,\n",
              " 10,\n",
              " 12,\n",
              " 14,\n",
              " 16,\n",
              " 18,\n",
              " 20,\n",
              " 3,\n",
              " 6,\n",
              " 9,\n",
              " 12,\n",
              " 15,\n",
              " 18,\n",
              " 21,\n",
              " 24,\n",
              " 27,\n",
              " 30,\n",
              " 4,\n",
              " 8,\n",
              " 12,\n",
              " 16,\n",
              " 20,\n",
              " 24,\n",
              " 28,\n",
              " 32,\n",
              " 36,\n",
              " 40,\n",
              " 5,\n",
              " 10,\n",
              " 15,\n",
              " 20,\n",
              " 25,\n",
              " 30,\n",
              " 35,\n",
              " 40,\n",
              " 45,\n",
              " 50,\n",
              " 6,\n",
              " 12,\n",
              " 18,\n",
              " 24,\n",
              " 30,\n",
              " 36,\n",
              " 42,\n",
              " 48,\n",
              " 54,\n",
              " 60,\n",
              " 7,\n",
              " 14,\n",
              " 21,\n",
              " 28,\n",
              " 35,\n",
              " 42,\n",
              " 49,\n",
              " 56,\n",
              " 63,\n",
              " 70,\n",
              " 8,\n",
              " 16,\n",
              " 24,\n",
              " 32,\n",
              " 40,\n",
              " 48,\n",
              " 56,\n",
              " 64,\n",
              " 72,\n",
              " 80,\n",
              " 9,\n",
              " 18,\n",
              " 27,\n",
              " 36,\n",
              " 45,\n",
              " 54,\n",
              " 63,\n",
              " 72,\n",
              " 81,\n",
              " 90,\n",
              " 10,\n",
              " 20,\n",
              " 30,\n",
              " 40,\n",
              " 50,\n",
              " 60,\n",
              " 70,\n",
              " 80,\n",
              " 90,\n",
              " 100]"
            ]
          },
          "metadata": {
            "tags": []
          },
          "execution_count": 35
        }
      ]
    },
    {
      "cell_type": "code",
      "metadata": {
        "colab": {
          "base_uri": "https://localhost:8080/"
        },
        "id": "hTYZIv6xkcQT",
        "outputId": "cb295022-4f0d-4ff1-dc9f-e05038ce1f50"
      },
      "source": [
        "# 함수 : 미리 만들어놓고 필요할떄 가져다 쓰는 것\n",
        "\n",
        "# def 함수이름(매개변수):\n",
        "\n",
        "def add(a, b):\n",
        "  return a + b\n",
        "\n",
        "z = add(3, 4)\n",
        "z\n",
        "\n"
      ],
      "execution_count": null,
      "outputs": [
        {
          "output_type": "execute_result",
          "data": {
            "text/plain": [
              "7"
            ]
          },
          "metadata": {
            "tags": []
          },
          "execution_count": 36
        }
      ]
    },
    {
      "cell_type": "code",
      "metadata": {
        "colab": {
          "base_uri": "https://localhost:8080/"
        },
        "id": "v3AnXcNwlLFu",
        "outputId": "cf08b13d-4ecb-4773-e88e-b9f4a97cbb38"
      },
      "source": [
        "def pyth(a,b):\n",
        "  return (a**2 + b**2)**(1/2)\n",
        "\n",
        "z = pyth(3,4)\n",
        "z\n"
      ],
      "execution_count": null,
      "outputs": [
        {
          "output_type": "execute_result",
          "data": {
            "text/plain": [
              "5.0"
            ]
          },
          "metadata": {
            "tags": []
          },
          "execution_count": 41
        }
      ]
    },
    {
      "cell_type": "code",
      "metadata": {
        "colab": {
          "base_uri": "https://localhost:8080/",
          "height": 35
        },
        "id": "llh-mifjmXuy",
        "outputId": "ff1c7bb2-6a07-4e9b-8f89-ca1a8150c0bd"
      },
      "source": [
        "def say():\n",
        "  return 'hello'\n",
        "\n",
        "z = say()\n",
        "z\n"
      ],
      "execution_count": null,
      "outputs": [
        {
          "output_type": "execute_result",
          "data": {
            "application/vnd.google.colaboratory.intrinsic+json": {
              "type": "string"
            },
            "text/plain": [
              "'hello'"
            ]
          },
          "metadata": {
            "tags": []
          },
          "execution_count": 42
        }
      ]
    },
    {
      "cell_type": "code",
      "metadata": {
        "colab": {
          "base_uri": "https://localhost:8080/"
        },
        "id": "KsuE6Ci1nwnM",
        "outputId": "f5613a65-06c4-423b-f429-997db325562e"
      },
      "source": [
        "def add(a, b):\n",
        "  print(a + b)\n",
        "\n",
        "z = add(3, 4)\n",
        "print(z)"
      ],
      "execution_count": null,
      "outputs": [
        {
          "output_type": "stream",
          "text": [
            "7\n",
            "None\n"
          ],
          "name": "stdout"
        }
      ]
    },
    {
      "cell_type": "code",
      "metadata": {
        "colab": {
          "base_uri": "https://localhost:8080/"
        },
        "id": "Li1YycxMoFkN",
        "outputId": "41744185-add4-444e-bb79-557a6bf2e7cf"
      },
      "source": [
        "def intro(name,age,sex = True):\n",
        "  print('나의 이름은 {}입니다.'.format(name))\n",
        "  print('나의 나이는 {}입니다.'.format(age))\n",
        "  if sex == True:\n",
        "    print('나는 남자입니다.')\n",
        "  else:\n",
        "    print('나는 여자입니다.')\n",
        "\n",
        "intro('박형동',23)"
      ],
      "execution_count": null,
      "outputs": [
        {
          "output_type": "stream",
          "text": [
            "나의 이름은 박형동입니다.\n",
            "나의 나이는 23입니다.\n",
            "나는 남자입니다.\n"
          ],
          "name": "stdout"
        }
      ]
    },
    {
      "cell_type": "code",
      "metadata": {
        "colab": {
          "base_uri": "https://localhost:8080/"
        },
        "id": "eA6_gthGpSlu",
        "outputId": "441e2d51-52c1-4302-ec03-e66aba2ff56d"
      },
      "source": [
        "\n",
        "def test():\n",
        "  a = 5\n",
        "  return a\n",
        "\n",
        "a = 0\n",
        "test()\n",
        "print(a)"
      ],
      "execution_count": null,
      "outputs": [
        {
          "output_type": "stream",
          "text": [
            "0\n"
          ],
          "name": "stdout"
        }
      ]
    },
    {
      "cell_type": "code",
      "metadata": {
        "colab": {
          "base_uri": "https://localhost:8080/"
        },
        "id": "j9Mmukj9pixU",
        "outputId": "e1444813-7c52-484d-ea1a-d56c4e718116"
      },
      "source": [
        "def test():\n",
        "  global a\n",
        "  a = 5\n",
        "  \n",
        "\n",
        "a = 0\n",
        "test()\n",
        "print(a)"
      ],
      "execution_count": null,
      "outputs": [
        {
          "output_type": "stream",
          "text": [
            "5\n"
          ],
          "name": "stdout"
        }
      ]
    },
    {
      "cell_type": "code",
      "metadata": {
        "id": "d62GjWFVqZ40"
      },
      "source": [
        "#아주 간단한 함수를 만들떈 lambda\n",
        "\n",
        "add = lambda a,b:a+b\n",
        "\n"
      ],
      "execution_count": null,
      "outputs": []
    },
    {
      "cell_type": "code",
      "metadata": {
        "id": "9HAu_9jYrkqM"
      },
      "source": [
        "def fac(n):\n",
        "  if n == 0:\n",
        "    return 1\n",
        "  return n * fac(n-1)\n",
        "\n",
        "  fac(5)"
      ],
      "execution_count": null,
      "outputs": []
    },
    {
      "cell_type": "code",
      "metadata": {
        "colab": {
          "base_uri": "https://localhost:8080/"
        },
        "id": "nyG5mJSfwcuI",
        "outputId": "306e52a4-b786-42ec-b9d3-a1797a82dabc"
      },
      "source": [
        "print(fac(5))"
      ],
      "execution_count": null,
      "outputs": [
        {
          "output_type": "stream",
          "text": [
            "120\n"
          ],
          "name": "stdout"
        }
      ]
    },
    {
      "cell_type": "code",
      "metadata": {
        "colab": {
          "base_uri": "https://localhost:8080/"
        },
        "id": "EnjTbbjkwmvq",
        "outputId": "d4258b11-b1bb-46d0-a0e2-308ffb96c7c2"
      },
      "source": [
        "def fac(n):\n",
        "  a = 1\n",
        "  for i in range(1, n+1):\n",
        "    a *= i\n",
        "  return a\n",
        "  \n",
        "fac(5)\n"
      ],
      "execution_count": null,
      "outputs": [
        {
          "output_type": "execute_result",
          "data": {
            "text/plain": [
              "120"
            ]
          },
          "metadata": {
            "tags": []
          },
          "execution_count": 57
        }
      ]
    },
    {
      "cell_type": "code",
      "metadata": {
        "id": "JxuXkenNxswp"
      },
      "source": [
        "# 재귀함수\n",
        "def fac(n):\n",
        "  if n == 1:\n",
        "    return 1\n",
        "  else:\n",
        "    return n * fac(n-1)"
      ],
      "execution_count": null,
      "outputs": []
    },
    {
      "cell_type": "code",
      "metadata": {
        "id": "36j1hAzIx2sl"
      },
      "source": [
        "dic = {1 : 1,\n",
        "       2 : 1}\n",
        "\n",
        "def pivo(n):\n",
        "  if n == 1:\n",
        "    return 0\n",
        "  elif n == 2:\n",
        "    return 1\n",
        "  else:\n",
        "    return piv(n -1) + piv(n -2)"
      ],
      "execution_count": null,
      "outputs": []
    },
    {
      "cell_type": "code",
      "metadata": {
        "colab": {
          "base_uri": "https://localhost:8080/"
        },
        "id": "PhlD003Eyf9v",
        "outputId": "1beac8d7-367c-49eb-9a60-eefb2354ee94"
      },
      "source": [
        "pivo(5)"
      ],
      "execution_count": null,
      "outputs": [
        {
          "output_type": "execute_result",
          "data": {
            "text/plain": [
              "5"
            ]
          },
          "metadata": {
            "tags": []
          },
          "execution_count": 66
        }
      ]
    },
    {
      "cell_type": "code",
      "metadata": {
        "colab": {
          "base_uri": "https://localhost:8080/"
        },
        "id": "GXFZh8SSyiP_",
        "outputId": "12d7422a-2767-414e-93d7-6d2791ebb910"
      },
      "source": [
        "pivo(6)"
      ],
      "execution_count": null,
      "outputs": [
        {
          "output_type": "execute_result",
          "data": {
            "text/plain": [
              "8"
            ]
          },
          "metadata": {
            "tags": []
          },
          "execution_count": 67
        }
      ]
    },
    {
      "cell_type": "code",
      "metadata": {
        "colab": {
          "base_uri": "https://localhost:8080/"
        },
        "id": "Ke_OaAj9yjq4",
        "outputId": "d00972ae-6baa-4dbd-f7ce-aa0d59cac138"
      },
      "source": [
        "pivo(35)"
      ],
      "execution_count": null,
      "outputs": [
        {
          "output_type": "execute_result",
          "data": {
            "text/plain": [
              "9227465"
            ]
          },
          "metadata": {
            "tags": []
          },
          "execution_count": 73
        }
      ]
    },
    {
      "cell_type": "code",
      "metadata": {
        "colab": {
          "base_uri": "https://localhost:8080/"
        },
        "id": "l6Z_qPntymKy",
        "outputId": "04e7a4b4-993d-454e-d057-81c16e643060"
      },
      "source": [
        "dic = {1 : 1,\n",
        "       2 : 1}\n",
        "\n",
        "def pivo(n):\n",
        "  if n in dic:\n",
        "    return dic[n]\n",
        "  else:\n",
        "    dic[n] = pivo(n-1) + pivo(n-2)\n",
        "  return dic[n]\n",
        "pivo(35)"
      ],
      "execution_count": null,
      "outputs": [
        {
          "output_type": "execute_result",
          "data": {
            "text/plain": [
              "9227465"
            ]
          },
          "metadata": {
            "tags": []
          },
          "execution_count": 72
        }
      ]
    },
    {
      "cell_type": "code",
      "metadata": {
        "id": "pCgEoL6R2bYh"
      },
      "source": [
        "# 파일 만들기\n",
        "\n",
        "# wt : 메모장 test.txt 파일을 쓰기 위해 오픈한다\n",
        "\n",
        "f = open('test.txt','wt')\n",
        "\n",
        "for i in range(1,11):\n",
        "  f.write('{}번째 줄입니다.\\n'.format(i))\n",
        "\n",
        "f.close()"
      ],
      "execution_count": null,
      "outputs": []
    },
    {
      "cell_type": "code",
      "metadata": {
        "id": "Ay3tbkmm3f8m"
      },
      "source": [
        "# at : attach textr\n",
        "\n",
        "f = open('test.txt','wt')\n",
        "\n",
        "for i in range(1,11):\n",
        "  f.write('{}번째 줄입니다.\\n'.format(i))\n",
        "\n",
        "f.close()"
      ],
      "execution_count": null,
      "outputs": []
    },
    {
      "cell_type": "code",
      "metadata": {
        "colab": {
          "base_uri": "https://localhost:8080/"
        },
        "id": "0Ge47eD-4aWH",
        "outputId": "687b3161-d6dc-415a-ce82-877f700d030d"
      },
      "source": [
        "f = open('test.txt', 'rt')\n",
        "\n",
        "text_data = f.read()\n",
        "\n",
        "f.close()\n",
        "\n",
        "print(text_data)"
      ],
      "execution_count": null,
      "outputs": [
        {
          "output_type": "stream",
          "text": [
            "1번째 줄입니다.\n",
            "2번째 줄입니다.\n",
            "3번째 줄입니다.\n",
            "4번째 줄입니다.\n",
            "5번째 줄입니다.\n",
            "6번째 줄입니다.\n",
            "7번째 줄입니다.\n",
            "8번째 줄입니다.\n",
            "9번째 줄입니다.\n",
            "10번째 줄입니다.\n",
            "\n"
          ],
          "name": "stdout"
        }
      ]
    },
    {
      "cell_type": "code",
      "metadata": {
        "colab": {
          "base_uri": "https://localhost:8080/"
        },
        "id": "5SugmL8G4oO8",
        "outputId": "5822c509-8dd1-4ac7-958c-fc0d5a886b47"
      },
      "source": [
        "f = open('test.txt', 'rt')\n",
        "\n",
        "text_data = f.readlines()\n",
        "\n",
        "f.close()\n",
        "\n",
        "print(text_data)"
      ],
      "execution_count": null,
      "outputs": [
        {
          "output_type": "stream",
          "text": [
            "['1번째 줄입니다.\\n', '2번째 줄입니다.\\n', '3번째 줄입니다.\\n', '4번째 줄입니다.\\n', '5번째 줄입니다.\\n', '6번째 줄입니다.\\n', '7번째 줄입니다.\\n', '8번째 줄입니다.\\n', '9번째 줄입니다.\\n', '10번째 줄입니다.\\n']\n"
          ],
          "name": "stdout"
        }
      ]
    },
    {
      "cell_type": "code",
      "metadata": {
        "colab": {
          "base_uri": "https://localhost:8080/"
        },
        "id": "lN8v7rw34-id",
        "outputId": "bf4ab1ee-bda4-445d-8a42-636cbe44fe0c"
      },
      "source": [
        "abs(-5) # 절대값\n"
      ],
      "execution_count": null,
      "outputs": [
        {
          "output_type": "execute_result",
          "data": {
            "text/plain": [
              "5"
            ]
          },
          "metadata": {
            "tags": []
          },
          "execution_count": 83
        }
      ]
    },
    {
      "cell_type": "code",
      "metadata": {
        "colab": {
          "base_uri": "https://localhost:8080/"
        },
        "id": "2xfxkReD5fwM",
        "outputId": "f234c1cb-75fd-4ef1-d05c-4d6c2683285c"
      },
      "source": [
        "# enumerate 첫번쨰 변수에 위치, 뒷변수에 값\n",
        "\n",
        "box = ['장원영', '백현', '아이유']\n",
        "for i,j in enumerate(box):\n",
        "  print(i,j)"
      ],
      "execution_count": null,
      "outputs": [
        {
          "output_type": "stream",
          "text": [
            "0 장원영\n",
            "1 백현\n",
            "2 아이유\n"
          ],
          "name": "stdout"
        }
      ]
    },
    {
      "cell_type": "code",
      "metadata": {
        "colab": {
          "base_uri": "https://localhost:8080/"
        },
        "id": "TaVggest5tAx",
        "outputId": "158eeda2-f8d2-4cfc-89f6-c335cf86915c"
      },
      "source": [
        "a = input('값을 입력해 주세요 : ') # 무저건 문지열로 반환\n"
      ],
      "execution_count": null,
      "outputs": [
        {
          "output_type": "stream",
          "text": [
            "값을 입력해 주세요 : 5\n"
          ],
          "name": "stdout"
        }
      ]
    },
    {
      "cell_type": "code",
      "metadata": {
        "colab": {
          "base_uri": "https://localhost:8080/",
          "height": 35
        },
        "id": "YXY3maD66Bd6",
        "outputId": "53154868-b8ce-4580-bff0-ee2a13410b75"
      },
      "source": [
        "a\n"
      ],
      "execution_count": null,
      "outputs": [
        {
          "output_type": "execute_result",
          "data": {
            "application/vnd.google.colaboratory.intrinsic+json": {
              "type": "string"
            },
            "text/plain": [
              "'5'"
            ]
          },
          "metadata": {
            "tags": []
          },
          "execution_count": 87
        }
      ]
    },
    {
      "cell_type": "code",
      "metadata": {
        "colab": {
          "base_uri": "https://localhost:8080/"
        },
        "id": "shyruWjr6Jv9",
        "outputId": "5936eec0-c0c0-4bab-8bbe-fdba2d4e4f2a"
      },
      "source": [
        "a = int(input('값을 입력해 주세요 : '))"
      ],
      "execution_count": null,
      "outputs": [
        {
          "output_type": "stream",
          "text": [
            "값을 입력해 주세요 : 5\n"
          ],
          "name": "stdout"
        }
      ]
    },
    {
      "cell_type": "code",
      "metadata": {
        "colab": {
          "base_uri": "https://localhost:8080/"
        },
        "id": "7YTXz_re6Pt_",
        "outputId": "0c62f522-dc8d-43e2-d461-d7212d75ed8f"
      },
      "source": [
        "a\n"
      ],
      "execution_count": null,
      "outputs": [
        {
          "output_type": "execute_result",
          "data": {
            "text/plain": [
              "5"
            ]
          },
          "metadata": {
            "tags": []
          },
          "execution_count": 89
        }
      ]
    },
    {
      "cell_type": "code",
      "metadata": {
        "colab": {
          "base_uri": "https://localhost:8080/"
        },
        "id": "1oWLGZSf6Q6I",
        "outputId": "ce9a9807-d2c3-4895-9109-11cf70651b23"
      },
      "source": [
        "int('5')"
      ],
      "execution_count": null,
      "outputs": [
        {
          "output_type": "execute_result",
          "data": {
            "text/plain": [
              "5"
            ]
          },
          "metadata": {
            "tags": []
          },
          "execution_count": 90
        }
      ]
    },
    {
      "cell_type": "code",
      "metadata": {
        "colab": {
          "base_uri": "https://localhost:8080/"
        },
        "id": "mx-ur1uH6YJD",
        "outputId": "56c20697-fa93-487a-fd94-c00e93c0be4e"
      },
      "source": [
        "int(3.1414592)"
      ],
      "execution_count": null,
      "outputs": [
        {
          "output_type": "execute_result",
          "data": {
            "text/plain": [
              "3"
            ]
          },
          "metadata": {
            "tags": []
          },
          "execution_count": 91
        }
      ]
    },
    {
      "cell_type": "code",
      "metadata": {
        "colab": {
          "base_uri": "https://localhost:8080/"
        },
        "id": "6gwB2cg96Z-s",
        "outputId": "70a49c6b-3822-4bd0-d46a-b6780e59bb0e"
      },
      "source": [
        "int('11',2) # 이진법 을 10진법을 변환"
      ],
      "execution_count": null,
      "outputs": [
        {
          "output_type": "execute_result",
          "data": {
            "text/plain": [
              "3"
            ]
          },
          "metadata": {
            "tags": []
          },
          "execution_count": 93
        }
      ]
    },
    {
      "cell_type": "code",
      "metadata": {
        "colab": {
          "base_uri": "https://localhost:8080/"
        },
        "id": "E9sOtT9e6beV",
        "outputId": "a3413438-a490-4e73-aac5-e0918f5f5a29"
      },
      "source": [
        "int('1A',16)"
      ],
      "execution_count": null,
      "outputs": [
        {
          "output_type": "execute_result",
          "data": {
            "text/plain": [
              "26"
            ]
          },
          "metadata": {
            "tags": []
          },
          "execution_count": 94
        }
      ]
    },
    {
      "cell_type": "code",
      "metadata": {
        "colab": {
          "base_uri": "https://localhost:8080/"
        },
        "id": "hmt_vBQ96ppq",
        "outputId": "57ed80ae-4dd0-41a8-ae7c-f943b823db73"
      },
      "source": [
        "# 문자열 다루는 문제 : Python\n",
        "\n",
        "list('python') # 문자 하나하나 잘라줌"
      ],
      "execution_count": null,
      "outputs": [
        {
          "output_type": "execute_result",
          "data": {
            "text/plain": [
              "['p', 'y', 't', 'h', 'o', 'n']"
            ]
          },
          "metadata": {
            "tags": []
          },
          "execution_count": 95
        }
      ]
    },
    {
      "cell_type": "code",
      "metadata": {
        "colab": {
          "base_uri": "https://localhost:8080/"
        },
        "id": "sGREoru36zhI",
        "outputId": "e8ac5296-1131-42d2-de2a-ced82e700f6d"
      },
      "source": [
        "list(range(1,11))"
      ],
      "execution_count": null,
      "outputs": [
        {
          "output_type": "execute_result",
          "data": {
            "text/plain": [
              "[1, 2, 3, 4, 5, 6, 7, 8, 9, 10]"
            ]
          },
          "metadata": {
            "tags": []
          },
          "execution_count": 96
        }
      ]
    },
    {
      "cell_type": "code",
      "metadata": {
        "colab": {
          "base_uri": "https://localhost:8080/"
        },
        "id": "EThR5zan68Oz",
        "outputId": "f975a186-3a04-453d-ae08-62a3dd751550"
      },
      "source": [
        "max([1,2,3,4,5,6])"
      ],
      "execution_count": null,
      "outputs": [
        {
          "output_type": "execute_result",
          "data": {
            "text/plain": [
              "6"
            ]
          },
          "metadata": {
            "tags": []
          },
          "execution_count": 97
        }
      ]
    },
    {
      "cell_type": "code",
      "metadata": {
        "colab": {
          "base_uri": "https://localhost:8080/"
        },
        "id": "pemSrlFq7BBM",
        "outputId": "806673d2-9fd9-4421-f378-e3d4ed42440f"
      },
      "source": [
        "min([1,2,3,4,5,6])"
      ],
      "execution_count": null,
      "outputs": [
        {
          "output_type": "execute_result",
          "data": {
            "text/plain": [
              "1"
            ]
          },
          "metadata": {
            "tags": []
          },
          "execution_count": 98
        }
      ]
    },
    {
      "cell_type": "code",
      "metadata": {
        "colab": {
          "base_uri": "https://localhost:8080/",
          "height": 172
        },
        "id": "E_u5e23W7CPd",
        "outputId": "8bfcc5ca-af7a-4d58-939b-eebbab717b13"
      },
      "source": [
        "sum([1,2,3,4,5])"
      ],
      "execution_count": null,
      "outputs": [
        {
          "output_type": "error",
          "ename": "TypeError",
          "evalue": "ignored",
          "traceback": [
            "\u001b[0;31m---------------------------------------------------------------------------\u001b[0m",
            "\u001b[0;31mTypeError\u001b[0m                                 Traceback (most recent call last)",
            "\u001b[0;32m<ipython-input-106-32d47d758cac>\u001b[0m in \u001b[0;36m<module>\u001b[0;34m()\u001b[0m\n\u001b[0;32m----> 1\u001b[0;31m \u001b[0msum\u001b[0m\u001b[0;34m(\u001b[0m\u001b[0;34m[\u001b[0m\u001b[0;36m1\u001b[0m\u001b[0;34m,\u001b[0m\u001b[0;36m2\u001b[0m\u001b[0;34m,\u001b[0m\u001b[0;36m3\u001b[0m\u001b[0;34m,\u001b[0m\u001b[0;36m4\u001b[0m\u001b[0;34m,\u001b[0m\u001b[0;36m5\u001b[0m\u001b[0;34m]\u001b[0m\u001b[0;34m)\u001b[0m\u001b[0;34m\u001b[0m\u001b[0;34m\u001b[0m\u001b[0m\n\u001b[0m",
            "\u001b[0;31mTypeError\u001b[0m: 'int' object is not callable"
          ]
        }
      ]
    },
    {
      "cell_type": "code",
      "metadata": {
        "colab": {
          "base_uri": "https://localhost:8080/"
        },
        "id": "wX2-zSCq7Ew2",
        "outputId": "fe1a118e-e6f6-4b60-cf47-f8a4b3da258e"
      },
      "source": [
        "round(2,1)"
      ],
      "execution_count": null,
      "outputs": [
        {
          "output_type": "execute_result",
          "data": {
            "text/plain": [
              "2"
            ]
          },
          "metadata": {
            "tags": []
          },
          "execution_count": 101
        }
      ]
    },
    {
      "cell_type": "code",
      "metadata": {
        "colab": {
          "base_uri": "https://localhost:8080/"
        },
        "id": "DIRv0yd27QzU",
        "outputId": "e360c695-ca8d-4fe4-edc0-f978ed1c23f2"
      },
      "source": [
        "round(5.6)"
      ],
      "execution_count": null,
      "outputs": [
        {
          "output_type": "execute_result",
          "data": {
            "text/plain": [
              "6"
            ]
          },
          "metadata": {
            "tags": []
          },
          "execution_count": 102
        }
      ]
    },
    {
      "cell_type": "code",
      "metadata": {
        "colab": {
          "base_uri": "https://localhost:8080/"
        },
        "id": "8b-Ms0RX7SQM",
        "outputId": "c90e5a16-176b-4b9e-e333-38cab2949bcc"
      },
      "source": [
        "sorted([1,4,3,2])"
      ],
      "execution_count": null,
      "outputs": [
        {
          "output_type": "execute_result",
          "data": {
            "text/plain": [
              "[1, 2, 3, 4]"
            ]
          },
          "metadata": {
            "tags": []
          },
          "execution_count": 103
        }
      ]
    },
    {
      "cell_type": "code",
      "metadata": {
        "id": "CIbxh58U7Vdl"
      },
      "source": [
        "a = [1,4,3,2]\n",
        "a.sort() # 리스트 전용 함수"
      ],
      "execution_count": null,
      "outputs": []
    },
    {
      "cell_type": "code",
      "metadata": {
        "colab": {
          "base_uri": "https://localhost:8080/",
          "height": 35
        },
        "id": "IF5svFhp7ZrX",
        "outputId": "5f43f036-78cf-4060-a296-1a69c9708d0b"
      },
      "source": [
        "str(5) # 문자로 반환"
      ],
      "execution_count": null,
      "outputs": [
        {
          "output_type": "execute_result",
          "data": {
            "application/vnd.google.colaboratory.intrinsic+json": {
              "type": "string"
            },
            "text/plain": [
              "'5'"
            ]
          },
          "metadata": {
            "tags": []
          },
          "execution_count": 105
        }
      ]
    },
    {
      "cell_type": "code",
      "metadata": {
        "colab": {
          "base_uri": "https://localhost:8080/"
        },
        "id": "kB4kjVbj7aff",
        "outputId": "9f59c649-0111-4c4e-b89d-835d00e5f1fd"
      },
      "source": [
        "type('aaa')"
      ],
      "execution_count": null,
      "outputs": [
        {
          "output_type": "execute_result",
          "data": {
            "text/plain": [
              "str"
            ]
          },
          "metadata": {
            "tags": []
          },
          "execution_count": 107
        }
      ]
    },
    {
      "cell_type": "code",
      "metadata": {
        "colab": {
          "base_uri": "https://localhost:8080/"
        },
        "id": "8FY3E9YZ7gzS",
        "outputId": "cbc99f0f-f87b-46eb-e9b7-08b986951a51"
      },
      "source": [
        "type([])"
      ],
      "execution_count": null,
      "outputs": [
        {
          "output_type": "execute_result",
          "data": {
            "text/plain": [
              "list"
            ]
          },
          "metadata": {
            "tags": []
          },
          "execution_count": 108
        }
      ]
    },
    {
      "cell_type": "code",
      "metadata": {
        "colab": {
          "base_uri": "https://localhost:8080/"
        },
        "id": "el2xTr_B7iva",
        "outputId": "f3228a11-1922-415f-dbdd-e48597285dba"
      },
      "source": [
        "a = [1,2,3,4]\n",
        "b = [5,6,7,8]\n",
        "\n",
        "for i,j in zip(a,b):\n",
        "  print(i,j)"
      ],
      "execution_count": null,
      "outputs": [
        {
          "output_type": "stream",
          "text": [
            "1 5\n",
            "2 6\n",
            "3 7\n",
            "4 8\n"
          ],
          "name": "stdout"
        }
      ]
    },
    {
      "cell_type": "code",
      "metadata": {
        "colab": {
          "base_uri": "https://localhost:8080/"
        },
        "id": "Mvf_CLdN7qH9",
        "outputId": "d091bb33-6c24-417c-f94b-2d510d0c26b7"
      },
      "source": [
        "round(3.141592,2)"
      ],
      "execution_count": null,
      "outputs": [
        {
          "output_type": "execute_result",
          "data": {
            "text/plain": [
              "3.14"
            ]
          },
          "metadata": {
            "tags": []
          },
          "execution_count": 111
        }
      ]
    },
    {
      "cell_type": "code",
      "metadata": {
        "colab": {
          "base_uri": "https://localhost:8080/"
        },
        "id": "8lsEH9kd71Xz",
        "outputId": "9abca2ac-76a3-4848-b71a-c18f205b688a"
      },
      "source": [
        "round(345,-2)"
      ],
      "execution_count": null,
      "outputs": [
        {
          "output_type": "execute_result",
          "data": {
            "text/plain": [
              "300"
            ]
          },
          "metadata": {
            "tags": []
          },
          "execution_count": 112
        }
      ]
    },
    {
      "cell_type": "code",
      "metadata": {
        "colab": {
          "base_uri": "https://localhost:8080/"
        },
        "id": "t82TFAPc8Kn9",
        "outputId": "9d0000ba-57fe-4d33-8d83-99a98d0dc865"
      },
      "source": [
        "round(345,-1)"
      ],
      "execution_count": null,
      "outputs": [
        {
          "output_type": "execute_result",
          "data": {
            "text/plain": [
              "340"
            ]
          },
          "metadata": {
            "tags": []
          },
          "execution_count": 113
        }
      ]
    },
    {
      "cell_type": "code",
      "metadata": {
        "colab": {
          "base_uri": "https://localhost:8080/"
        },
        "id": "AtrQm1ts8MvU",
        "outputId": "fc056ba2-be52-485d-ae36-f2c8bf871207"
      },
      "source": [
        "round(345,0)"
      ],
      "execution_count": null,
      "outputs": [
        {
          "output_type": "execute_result",
          "data": {
            "text/plain": [
              "345"
            ]
          },
          "metadata": {
            "tags": []
          },
          "execution_count": 114
        }
      ]
    },
    {
      "cell_type": "code",
      "metadata": {
        "colab": {
          "base_uri": "https://localhost:8080/"
        },
        "id": "0r_Ecd0U8O_e",
        "outputId": "4b15dc56-2649-416c-823e-b888a006c064"
      },
      "source": [
        "round(345,1)"
      ],
      "execution_count": null,
      "outputs": [
        {
          "output_type": "execute_result",
          "data": {
            "text/plain": [
              "345"
            ]
          },
          "metadata": {
            "tags": []
          },
          "execution_count": 115
        }
      ]
    },
    {
      "cell_type": "code",
      "metadata": {
        "id": "l2Hca2FH8Q62"
      },
      "source": [
        ""
      ],
      "execution_count": null,
      "outputs": []
    }
  ]
}